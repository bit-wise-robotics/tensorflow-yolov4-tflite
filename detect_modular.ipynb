{
 "cells": [
  {
   "cell_type": "code",
   "execution_count": 3,
   "metadata": {
    "tags": []
   },
   "outputs": [],
   "source": [
    "import tensorflow as tf\n",
    "import cv2\n",
    "import numpy as np\n",
    "\n",
    "\n",
    "import core.utils as utils\n",
    "from core.yolov4 import filter_boxes\n",
    "\n",
    "from tensorflow.python.saved_model import tag_constants\n",
    "\n",
    "from tensorflow.compat.v1 import ConfigProto\n",
    "from tensorflow.compat.v1 import InteractiveSession\n",
    "\n",
    "class FLAGS:\n",
    "    framework = \"tflite\"\n",
    "    weights = \"weights/yolov4-tiny.tflite\"\n",
    "    size = 416\n",
    "    tiny = True\n",
    "    model = \"yolov4\"\n",
    "    iou = 0.45\n",
    "    score = 0.52\n",
    "\n",
    "def preprocess_cam(image_path):\n",
    "    original_image = cv2.imread(image_path)\n",
    "    return cv2.cvtColor(original_image, cv2.COLOR_BGR2RGB)\n",
    "\n",
    "def detect_image(original_image):\n",
    "\n",
    "    config = ConfigProto()\n",
    "    config.gpu_options.allow_growth = True\n",
    "    session = InteractiveSession(config=config)\n",
    "    STRIDES, ANCHORS, NUM_CLASS, XYSCALE = utils.load_config(FLAGS)\n",
    "    input_size = FLAGS.size\n",
    "\n",
    "\n",
    "    image_data = cv2.resize(original_image, (input_size, input_size))\n",
    "    image_data = image_data / 255.\n",
    "\n",
    "    images_data = []\n",
    "    for i in range(1):\n",
    "        images_data.append(image_data)\n",
    "    \n",
    "    images_data = np.asarray(images_data).astype(np.float32)\n",
    "\n",
    "    interpreter = tf.lite.Interpreter(model_path=FLAGS.weights)\n",
    "    interpreter.allocate_tensors()\n",
    "    input_details = interpreter.get_input_details()\n",
    "    output_details = interpreter.get_output_details()\n",
    "    # print(input_details)\n",
    "    # print(output_details)\n",
    "    interpreter.set_tensor(input_details[0]['index'], images_data)\n",
    "    interpreter.invoke()\n",
    "    pred = [interpreter.get_tensor(output_details[i]['index']) for i in range(len(output_details))]\n",
    "    if FLAGS.model == 'yolov3' and FLAGS.tiny == True:\n",
    "        boxes, pred_conf = filter_boxes(pred[1], pred[0], score_threshold=0.25, input_shape=tf.constant([input_size, input_size]))\n",
    "    else:\n",
    "        boxes, pred_conf = filter_boxes(pred[0], pred[1], score_threshold=0.25, input_shape=tf.constant([input_size, input_size]))\n",
    "\n",
    "    boxes, scores, classes, valid_detections = tf.image.combined_non_max_suppression(\n",
    "        boxes=tf.reshape(boxes, (tf.shape(boxes)[0], -1, 1, 4)),\n",
    "        scores=tf.reshape(\n",
    "            pred_conf, (tf.shape(pred_conf)[0], -1, tf.shape(pred_conf)[-1])),\n",
    "        max_output_size_per_class=50,\n",
    "        max_total_size=50,\n",
    "        iou_threshold=FLAGS.iou,\n",
    "        score_threshold=FLAGS.score\n",
    "    )\n",
    "    pred_bbox = [boxes.numpy(), scores.numpy(), classes.numpy(), valid_detections.numpy()]\n",
    "    return utils.detect_coordinates(original_image, pred_bbox)\n"
   ]
  },
  {
   "cell_type": "code",
   "execution_count": 8,
   "metadata": {
    "tags": []
   },
   "outputs": [],
   "source": [
    "### USAGE ### \n",
    "img = preprocess_cam(r\"4727955343_0bb23ac4ae.jpg\")\n",
    "x = detect_image(img)"
   ]
  },
  {
   "cell_type": "code",
   "execution_count": 9,
   "metadata": {},
   "outputs": [],
   "source": [
    "\n",
    "### TESTING ###\n",
    "original_image = cv2.imread(\"4727955343_0bb23ac4ae.jpg\")\n",
    "for i in x:\n",
    "    original_image = cv2.circle(original_image, i['center'], 1, (0, 0, 255), 5)\n",
    "    cv2.imshow(\"x\", cv2.cvtColor(i['image'], cv2.COLOR_BGR2RGB))\n",
    "    cv2.waitKey(0)\n",
    "    cv2.destroyAllWindows()\n",
    "\n",
    "cv2.imshow(\"x\", original_image)\n",
    "cv2.waitKey(0)\n",
    "cv2.destroyAllWindows()"
   ]
  }
 ],
 "metadata": {
  "coursera": {
   "course_slug": "neural-networks-deep-learning",
   "graded_item_id": "TSPse",
   "launcher_item_id": "24mxX"
  },
  "kernelspec": {
   "display_name": "Python 3.8.3 64-bit",
   "language": "python",
   "name": "python38364bit8341cf5c66df44ceb625075b2c2a8efb"
  },
  "language_info": {
   "codemirror_mode": {
    "name": "ipython",
    "version": 3
   },
   "file_extension": ".py",
   "mimetype": "text/x-python",
   "name": "python",
   "nbconvert_exporter": "python",
   "pygments_lexer": "ipython3",
   "version": "3.8.3-final"
  }
 },
 "nbformat": 4,
 "nbformat_minor": 2
}